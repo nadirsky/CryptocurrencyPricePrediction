{
 "cells": [
  {
   "cell_type": "code",
   "execution_count": 1,
   "metadata": {
    "collapsed": true,
    "scrolled": true
   },
   "outputs": [],
   "source": [
    "import krakenex\n",
    "import datetime\n",
    "import calendar\n",
    "import pandas as pd\n",
    "import time\n",
    "import os.path\n",
    "\n",
    "%matplotlib inline"
   ]
  },
  {
   "cell_type": "code",
   "execution_count": 2,
   "metadata": {
    "collapsed": true
   },
   "outputs": [],
   "source": [
    "# takes date and returns nix time\n",
    "def date_nix(str_date):\n",
    "    return calendar.timegm(str_date.timetuple())\n",
    "\n",
    "# takes nix time and returns date\n",
    "def date_str(nix_time):\n",
    "    return datetime.datetime.fromtimestamp(nix_time).strftime('%m, %d, %Y')\n",
    "\n",
    "#return formated request data\n",
    "def req(start, end, ofs):\n",
    "    req_data = {'type': 'all',\n",
    "                'trades': 'true',\n",
    "                'start': str(date_nix(start)),\n",
    "                'end': str(date_nix(end)),\n",
    "                'ofs': str(ofs)\n",
    "                }\n",
    "    return req_data"
   ]
  },
  {
   "cell_type": "code",
   "execution_count": null,
   "metadata": {
    "collapsed": true
   },
   "outputs": [],
   "source": [
    "k = krakenex.API()\n",
    "k.load_key('kraken.key')"
   ]
  },
  {
   "cell_type": "code",
   "execution_count": null,
   "metadata": {},
   "outputs": [
    {
     "name": "stdout",
     "output_type": "stream",
     "text": [
      "    timestamp     bid          ask\n",
      "0  1502113064  3401.0  3405.408936\n",
      "    timestamp     bid        ask\n",
      "0  1502113318  3401.5  3405.4021\n",
      "    timestamp          bid          ask\n",
      "0  1502113716  3404.405029  3405.394043\n",
      "    timestamp          bid          ask\n",
      "0  1502114110  3406.885986  3406.889893\n",
      "    timestamp     bid          ask\n",
      "0  1502114469  3400.0  3400.199951\n",
      "    timestamp          bid          ask\n",
      "0  1502114633  3400.204102  3400.205078\n",
      "    timestamp          bid     ask\n",
      "0  1502114933  3377.879883  3380.0\n",
      "    timestamp          bid          ask\n",
      "0  1502115215  3384.425049  3384.909912\n",
      "    timestamp          bid          ask\n",
      "0  1502115593  3384.909912  3385.641113\n",
      "    timestamp          bid     ask\n",
      "0  1502115840  3339.430908  3356.0\n",
      "    timestamp          bid          ask\n",
      "0  1502116085  3365.870117  3371.001953\n",
      "    timestamp          bid          ask\n",
      "0  1502116407  3374.996094  3374.996094\n",
      "    timestamp     bid          ask\n",
      "0  1502116765  3375.0  3375.000977\n",
      "    timestamp          bid          ask\n",
      "0  1502117152  3375.301025  3383.895996\n",
      "    timestamp          bid          ask\n",
      "0  1502117539  3378.100098  3378.100098\n",
      "    timestamp          bid          ask\n",
      "0  1502117796  3384.697998  3384.698975\n",
      "    timestamp          bid          ask\n",
      "0  1502118039  3385.003906  3387.999023\n",
      "    timestamp     bid          ask\n",
      "0  1502118295  3389.0  3395.191895\n",
      "    timestamp     bid          ask\n",
      "0  1502118625  3387.0  3390.387939\n"
     ]
    }
   ],
   "source": [
    "\n",
    "\n",
    "#depth = k.query_public('Depth', {'pair': 'XXBTZUSD', 'count': '100'})\n",
    "#asks = depth['result']['XXBTZUSD']['asks']\n",
    "#bids = depth['result']['XXBTZUSD']['bids']\n",
    "#print(asks)\n",
    "\n",
    "#df_asks = pd.DataFrame(data=asks, columns=['price','volume','timestamp'])\n",
    "#df_asks[['price', 'volume']] = df_asks[['price', 'volume']].astype(float)   \n",
    "#df_asks[['timestamp']] = df_asks[['timestamp']].astype(int) \n",
    "#df_asks = df_asks.sort_values('timestamp')\n",
    "#df_asks.plot(x='timestamp', y='price')\n",
    "\n",
    "#df_bids = pd.DataFrame(data=bids, columns=['price','volume','timestamp'])\n",
    "#df_bids[['price', 'volume']] = df_bids[['price', 'volume']].astype(float)  \n",
    "#df_bids[['timestamp']] = df_bids[['timestamp']].astype(int) \n",
    "#df_bids = df_bids.sort_values('timestamp')\n",
    "#df_bids.plot(x='timestamp', y='price')\n",
    "\n",
    "#ax = df_asks.plot(x='timestamp', y='price', label='asks')\n",
    "#df_bids.plot(ax=ax, x='timestamp', y='price', label='bids')\n",
    "\n",
    "#pd.DataFrame(index=index, columns=['timestamp','bid','ask']).to_csv('spread.csv', mode='a')\n",
    "\n",
    "\n",
    "if os.path.isfile('spread.csv'):\n",
    "    df_spread = pd.read_csv('spread.csv', index_col=0, header=0)\n",
    "else:\n",
    "    df_spread = pd.DataFrame(columns=['timestamp','bid','ask'])\n",
    "\n",
    "while True:\n",
    "#for i in range(5):\n",
    "    try:\n",
    "        spread = k.query_public('Spread', {'pair': 'XXBTZUSD', 'since': '0'})\n",
    "    except:\n",
    "        time.sleep(10)\n",
    "        pass\n",
    "    else:\n",
    "        df_temp = pd.DataFrame(data=spread['result']['XXBTZUSD'], columns=['timestamp','bid','ask'])\n",
    "        df_temp[['bid', 'ask']] = df_temp[['bid', 'ask']].astype('float32')\n",
    "        print(df_temp.head(1))\n",
    "\n",
    "        df_spread = pd.concat([df_spread,df_temp], ignore_index=True).drop_duplicates().sort_values('timestamp').reset_index(drop=True)  \n",
    "\n",
    "        df_spread.to_csv('spread.csv')\n",
    "        time.sleep(300)\n",
    "\n",
    "print(df_spread)\n",
    "\n",
    "df_spread.plot(x='timestamp', y=['ask','bid'])"
   ]
  },
  {
   "cell_type": "code",
   "execution_count": null,
   "metadata": {
    "collapsed": true
   },
   "outputs": [],
   "source": []
  },
  {
   "cell_type": "code",
   "execution_count": null,
   "metadata": {
    "collapsed": true
   },
   "outputs": [],
   "source": []
  }
 ],
 "metadata": {
  "anaconda-cloud": {},
  "kernelspec": {
   "display_name": "Python [default]",
   "language": "python",
   "name": "python3"
  },
  "language_info": {
   "codemirror_mode": {
    "name": "ipython",
    "version": 3
   },
   "file_extension": ".py",
   "mimetype": "text/x-python",
   "name": "python",
   "nbconvert_exporter": "python",
   "pygments_lexer": "ipython3",
   "version": "3.6.1"
  }
 },
 "nbformat": 4,
 "nbformat_minor": 1
}
