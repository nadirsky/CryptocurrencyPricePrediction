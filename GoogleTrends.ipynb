{
 "cells": [
  {
   "cell_type": "code",
   "execution_count": 2,
   "metadata": {},
   "outputs": [
    {
     "ename": "ModuleNotFoundError",
     "evalue": "No module named 'pytrends'",
     "output_type": "error",
     "traceback": [
      "\u001b[1;31m---------------------------------------------------------------------------\u001b[0m",
      "\u001b[1;31mModuleNotFoundError\u001b[0m                       Traceback (most recent call last)",
      "\u001b[1;32m<ipython-input-2-2ad629690b33>\u001b[0m in \u001b[0;36m<module>\u001b[1;34m()\u001b[0m\n\u001b[0;32m      1\u001b[0m \u001b[1;31m# Requires the pytrends library. To install, run \"pip install pytrends\".\u001b[0m\u001b[1;33m\u001b[0m\u001b[1;33m\u001b[0m\u001b[0m\n\u001b[1;32m----> 2\u001b[1;33m \u001b[1;32mfrom\u001b[0m \u001b[0mpytrends\u001b[0m\u001b[1;33m.\u001b[0m\u001b[0mpyGTrends\u001b[0m \u001b[1;32mimport\u001b[0m \u001b[0mpyGTrends\u001b[0m\u001b[1;33m\u001b[0m\u001b[0m\n\u001b[0m\u001b[0;32m      3\u001b[0m \u001b[1;32mimport\u001b[0m \u001b[0mtime\u001b[0m\u001b[1;33m\u001b[0m\u001b[0m\n\u001b[0;32m      4\u001b[0m \u001b[1;32mimport\u001b[0m \u001b[0mos\u001b[0m\u001b[1;33m\u001b[0m\u001b[0m\n\u001b[0;32m      5\u001b[0m \u001b[1;32mfrom\u001b[0m \u001b[0mrandom\u001b[0m \u001b[1;32mimport\u001b[0m \u001b[0mrandint\u001b[0m\u001b[1;33m\u001b[0m\u001b[0m\n",
      "\u001b[1;31mModuleNotFoundError\u001b[0m: No module named 'pytrends'"
     ]
    }
   ],
   "source": [
    "# Requires the pytrends library. To install, run \"pip install pytrends\".\n",
    "from pytrends.pyGTrends import pyGTrends\n",
    "import time\n",
    "import os\n",
    "from random import randint\n",
    "import pandas as pd\n",
    " \n",
    "# Add your Gmail username to the google_username variable and your Gmail password to the google_password variable.\n",
    "google_username = \"sokolowski.maksymilian@gmail.com\"\n",
    "google_password = \"Nadirsky1992\"\n",
    "connector = pyGTrends(google_username, google_password)\n",
    " \n",
    "# This script downloads a series of CSV files from Google Trends. Please specify a filepath for where you'd like these files to be stored in the below variable.\n",
    "path = \"\"\n",
    " \n",
    "payload = {'geo': 'US', 'q': ['bitcoin']}\n",
    "connector.request_report(payload)\n",
    "time.sleep(randint(5, 10))\n",
    "connector.save_csv(\"bitcoin\")\n",
    "csvname = \"bitcoin.csv\"\n",
    "trenddata = pd.read_csv(csvname, skiprows=4, names=['date', 'values'])\n",
    "keyword = trenddata['values'].loc[[0]][0]\n",
    "trenddata = trenddata.ix[1:]\n",
    "trenddata['keyword'] = keyword\n",
    "trenddata.rename(columns={'values': 'trends'}, inplace=True)\n",
    "trenddata['trends'] = pd.to_numeric(trenddata['trends'], errors='coerce')\n",
    "trenddata['date'] = trenddata['date'].str.extract('(^[0-9]{4}\\-[0-9]{2}\\-[0-9]{2}) \\-.*')\n",
    "trenddata = trenddata.dropna()\n",
    "trenddata['date'] = pd.to_datetime(trenddata['date'])\n",
    "trenddata['year'] = pd.DatetimeIndex(trenddata['date']).year\n",
    "trenddata['month'] = pd.DatetimeIndex(trenddata['date']).month\n",
    "trenddata['day'] = pd.DatetimeIndex(trenddata['date']).day\n",
    " \n",
    "maxyear = trenddata['year'].max()\n",
    "grouped = trenddata.groupby(['year']).mean()\n",
    "\n",
    "def slope_formula(xone, yone, xtwo, ytwo):\n",
    "    return (ytwo-yone)/(xtwo-xone)\n",
    "\n",
    "maxyear = trenddata['year'].max()\n",
    "grouped = trenddata.groupby(['year']).mean()\n",
    "slope = slope_formula(1,float(grouped.loc[grouped.index==maxyear-2]['trends']),\n",
    "                      2,float(grouped.loc[grouped.index==maxyear-1]['trends']))\n",
    "keywordlist = keywordlist.append({'keyword':keyword,'slope':slope}, ignore_index=True)\n",
    "os.remove(csvname)\n",
    " \n",
    "# Specify a csv filename to output the slope values.\n",
    "# keywordlist.to_csv(\"trends_slope.csv\", sep=\",\", encoding=\"utf-8\", index=False)\n",
    " \n",
    "print(\"Slope calculation and CSV export complete.\")"
   ]
  },
  {
   "cell_type": "code",
   "execution_count": null,
   "metadata": {
    "collapsed": true
   },
   "outputs": [],
   "source": []
  }
 ],
 "metadata": {
  "kernelspec": {
   "display_name": "Python 3",
   "language": "python",
   "name": "python3"
  },
  "language_info": {
   "codemirror_mode": {
    "name": "ipython",
    "version": 3
   },
   "file_extension": ".py",
   "mimetype": "text/x-python",
   "name": "python",
   "nbconvert_exporter": "python",
   "pygments_lexer": "ipython3",
   "version": "3.6.3"
  }
 },
 "nbformat": 4,
 "nbformat_minor": 2
}
